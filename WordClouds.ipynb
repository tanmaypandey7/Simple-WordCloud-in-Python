{
  "cells": [
    {
      "metadata": {
        "_uuid": "c5f678dbd5bcd8051933616c17c4b969e53494aa"
      },
      "cell_type": "markdown",
      "source": "Hey everyone! Today we are going to learn how to create simple WordClouds. We will be using the wordcloud library and hopefully by the end of this tutorial you all will have a simple understanding to start building your own wordclouds!"
    },
    {
      "metadata": {
        "_uuid": "8f2839f25d086af736a60e9eeb907d3b93b6e0e5",
        "_cell_guid": "b1076dfc-b9ad-4769-8c92-a6c4dae69d19",
        "trusted": true,
        "collapsed": true
      },
      "cell_type": "code",
      "source": "import numpy as np\nimport matplotlib.pyplot as plt\nfrom wordcloud import WordCloud,STOPWORDS",
      "execution_count": null,
      "outputs": []
    },
    {
      "metadata": {
        "_uuid": "ccf773630f719b19c315ef140154d791db1dd404"
      },
      "cell_type": "markdown",
      "source": "**Some Great Quote by Yoda to start off the Kernel**"
    },
    {
      "metadata": {
        "trusted": true,
        "_uuid": "d6a4b435559680a985fe5e061897baa3d6a119e2",
        "collapsed": true
      },
      "cell_type": "code",
      "source": "from IPython.display import Image\nImage(filename='../input/yoda-pics-1/The-greatest-teacher-failure-is.-Master-Yoda-Star-Wars.png')",
      "execution_count": null,
      "outputs": []
    },
    {
      "metadata": {
        "_uuid": "73d7c296247388ed7d3b06b1863a1d5017afacfc"
      },
      "cell_type": "markdown",
      "source": "\n\n *THE GREATEST TEACHER, FAILURE IS* - Yoda, The Last Jedi"
    },
    {
      "metadata": {
        "_uuid": "ee70c86e0e389538586636bb347fc188a1371a52"
      },
      "cell_type": "markdown",
      "source": "First of all, lets start by importing the text files into the notebook. We will be using the \"r\" method, i.e. read method to (you guessed it!) read the files."
    },
    {
      "metadata": {
        "trusted": true,
        "_uuid": "805c9dc7d78dd393d1bf42b48ca8d7e5c9a8ba34",
        "collapsed": true
      },
      "cell_type": "code",
      "source": "eiv=open('../input/star-wars-movie-scripts/SW_EpisodeIV.txt','r')",
      "execution_count": null,
      "outputs": []
    },
    {
      "metadata": {
        "_uuid": "7f301ea2fd955c7e3236c5169151e8c94de5dc77"
      },
      "cell_type": "markdown",
      "source": "I'll use the Episode IV scripts here only for simplicity but i highly suggest to try on Episode V and Episode VI  too! \n\nBonus points if you use it on your own datasets!"
    },
    {
      "metadata": {
        "trusted": true,
        "_uuid": "79ea62429914f35815858f4937736c8c21714e1b",
        "collapsed": true
      },
      "cell_type": "code",
      "source": "eiv=eiv.read()",
      "execution_count": null,
      "outputs": []
    },
    {
      "metadata": {
        "trusted": true,
        "_uuid": "6ba1e7aeefe6ab389f4e3327ee16206c18bcdc09",
        "collapsed": true
      },
      "cell_type": "code",
      "source": "print(eiv[:500])",
      "execution_count": null,
      "outputs": []
    },
    {
      "metadata": {
        "_uuid": "75bc4a152581dc2d5fa2c9f50e246c52950afd8b"
      },
      "cell_type": "markdown",
      "source": "Hmm, looks good. But I am sure we can make it look better. Let's try to split the text as soon as a newline characters comes up."
    },
    {
      "metadata": {
        "trusted": true,
        "_uuid": "ae3888231212a118a7483d5268da761f8289b4c6",
        "collapsed": true
      },
      "cell_type": "code",
      "source": "eiv1=eiv.split(\"\\n\")",
      "execution_count": null,
      "outputs": []
    },
    {
      "metadata": {
        "trusted": true,
        "_uuid": "3717e3c959eaf441a9fef1e82f2d4abb4841a8e4",
        "collapsed": true
      },
      "cell_type": "code",
      "source": "eiv1[:10]\n",
      "execution_count": null,
      "outputs": []
    },
    {
      "metadata": {
        "_uuid": "bc9e71ce61af4f18f2f422050dbdb024b7a73504"
      },
      "cell_type": "markdown",
      "source": "Just for curiosity, let see how many lines of script are in the movie. We should subtract one from the count because of the '\"character\" \"dialogue\"' text in the start."
    },
    {
      "metadata": {
        "trusted": true,
        "_uuid": "2c554d862b50881a8cc8ffac0e79d1f74535b804",
        "collapsed": true
      },
      "cell_type": "code",
      "source": "print(len(eiv1)-1)",
      "execution_count": null,
      "outputs": []
    },
    {
      "metadata": {
        "_uuid": "ca4ecbbaa36f9711096ff4ccf829ca8079647ffc"
      },
      "cell_type": "markdown",
      "source": "Creating a \"mask\" on which the WordCloud will be made."
    },
    {
      "metadata": {
        "trusted": true,
        "collapsed": true,
        "_uuid": "2e8d6bc5a8ccb983a6313b641b6b8e33327cd945"
      },
      "cell_type": "code",
      "source": "from PIL import Image\nmask = np.array(Image.open(\"../input/star-wars-movie-scripts/wordcloud_masks/yoda.png\"))",
      "execution_count": null,
      "outputs": []
    },
    {
      "metadata": {
        "_uuid": "5167a70c073ff325aa77b24fdd35f1f3d4e0506a"
      },
      "cell_type": "markdown",
      "source": "(Note: The IPython.display and PIL have different Image utilities!)"
    },
    {
      "metadata": {
        "trusted": true,
        "_uuid": "1f27b8df87c1b1472d4bcd4f051d15027e97169b",
        "scrolled": false,
        "collapsed": true
      },
      "cell_type": "code",
      "source": "stop_words=set(STOPWORDS)\neiv_wc=WordCloud(width=800,height=500,mask=mask,random_state=21, max_font_size=110,stopwords=stop_words).generate(eiv)",
      "execution_count": null,
      "outputs": []
    },
    {
      "metadata": {
        "_uuid": "10cb2b098592072bd58febfab8fdfcef0a88713e"
      },
      "cell_type": "markdown",
      "source": "Plotting our WordCloud with matplotlib."
    },
    {
      "metadata": {
        "trusted": true,
        "_uuid": "1bbb49802e27605ccdcf9fc5c08acc8f2ec8cdae",
        "collapsed": true
      },
      "cell_type": "code",
      "source": "fig=plt.figure(figsize=(16,8))\nplt.imshow(eiv_wc)",
      "execution_count": null,
      "outputs": []
    },
    {
      "metadata": {
        "trusted": true,
        "collapsed": true,
        "_uuid": "67be63811d8eb3f84867c4917e54675407839cb1"
      },
      "cell_type": "markdown",
      "source": "Looks like we have made a WordCloud. And it looks pretty great!"
    },
    {
      "metadata": {
        "trusted": true,
        "collapsed": true,
        "_uuid": "15e29115e4a81f73e779c31d22e85be7ae25fdd6"
      },
      "cell_type": "markdown",
      "source": "So looks like you have reached the end of this kernel. This was an extremely basic implementation of WordCloud and there is a lot you can play around with. Since I am by no means an expert, feel free to correct me if there is any mistake in the kernel.\n\nAlso, if you liked it, please drop an upvote, it really motivates me to make even better kernels. Cheers!"
    },
    {
      "metadata": {
        "trusted": true,
        "collapsed": true,
        "_uuid": "999a559fd1f1b6c5b8bed9364aa32da9b666434b"
      },
      "cell_type": "code",
      "source": "",
      "execution_count": null,
      "outputs": []
    }
  ],
  "metadata": {
    "kernelspec": {
      "display_name": "Python 3",
      "language": "python",
      "name": "python3"
    },
    "language_info": {
      "name": "python",
      "version": "3.6.6",
      "mimetype": "text/x-python",
      "codemirror_mode": {
        "name": "ipython",
        "version": 3
      },
      "pygments_lexer": "ipython3",
      "nbconvert_exporter": "python",
      "file_extension": ".py"
    }
  },
  "nbformat": 4,
  "nbformat_minor": 1
}